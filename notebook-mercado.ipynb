{
 "metadata": {
  "language_info": {
   "codemirror_mode": {
    "name": "ipython",
    "version": 3
   },
   "file_extension": ".py",
   "mimetype": "text/x-python",
   "name": "python",
   "nbconvert_exporter": "python",
   "pygments_lexer": "ipython3",
   "version": "3.8.5-final"
  },
  "orig_nbformat": 2,
  "kernelspec": {
   "name": "python3",
   "display_name": "Python 3"
  }
 },
 "nbformat": 4,
 "nbformat_minor": 2,
 "cells": [
  {
   "cell_type": "code",
   "execution_count": 256,
   "metadata": {},
   "outputs": [],
   "source": [
    "import yfinance as yf\n",
    "import datetime\n",
    "import pandas as pd \n",
    "import numpy as np \n",
    "import matplotlib.pyplot as plt \n",
    "acao = 'RBVA11'"
   ]
  },
  {
   "cell_type": "code",
   "execution_count": 257,
   "metadata": {},
   "outputs": [
    {
     "output_type": "stream",
     "name": "stdout",
     "text": [
      "                 price  diferenca_diaria  sinal  positions\nDate                                                      \n2020-11-03  119.480003               NaN    0.0        NaN\n2020-11-04  119.330002         -0.150002    0.0        0.0\n2020-11-05  119.360001          0.029999    1.0        1.0\n2020-11-06  119.029999         -0.330002    0.0       -1.0\n2020-11-09  118.889999         -0.139999    0.0        0.0\n2020-11-10  119.150002          0.260002    1.0        1.0\n2020-11-11  119.199997          0.049995    1.0        0.0\n2020-11-12  118.730003         -0.469994    0.0       -1.0\n"
     ]
    }
   ],
   "source": [
    "data = yf.download(acao+'.SA',start='2020-11-01',end=datetime.datetime.today(),progress=False)\n",
    "data_signal = pd.DataFrame(index=data.index)\n",
    "data_signal['price'] = data['Close']\n",
    "data_signal['diferenca_diaria'] = data_signal['price'].diff()\n",
    "data_signal['sinal'] = 0\n",
    "# comprar quando for 0 e vender quando for 1\n",
    "data_signal['sinal'] = np.where(data_signal['diferenca_diaria'] > 0 , 1.0, 0.0)\n",
    "data_signal['positions'] = data_signal['sinal'].diff()\n",
    "print(data_signal)\n",
    "capital_inicial = 1000.0\n",
    "positions = pd.DataFrame(index= data_signal.index).fillna(0.0)\n",
    "portifolio = pd.DataFrame(index=data_signal.index).fillna(0.0)\n",
    "positions[acao] = data_signal['sinal']\n",
    "portifolio['positions'] = (positions.multiply(data_signal['price'],axis = 0)).cumsum()\n",
    "portifolio['cash'] = capital_inicial - (positions.diff().multiply(data_signal['price'], axis = 0 )).cumsum()\n",
    "portifolio['total'] = portifolio['positions'] + portifolio['cash']"
   ]
  },
  {
   "cell_type": "code",
   "execution_count": 258,
   "metadata": {},
   "outputs": [
    {
     "output_type": "execute_result",
     "data": {
      "text/plain": [
       "             positions         cash        total\n",
       "Date                                            \n",
       "2020-11-03    0.000000          NaN          NaN\n",
       "2020-11-04    0.000000  1000.000000  1000.000000\n",
       "2020-11-05  119.360001   880.639999  1000.000000\n",
       "2020-11-06  119.360001   999.669998  1119.029999\n",
       "2020-11-09  119.360001   999.669998  1119.029999\n",
       "2020-11-10  238.510002   880.519997  1119.029999\n",
       "2020-11-11  357.709999   880.519997  1238.229996\n",
       "2020-11-12  357.709999   999.250000  1356.959999"
      ],
      "text/html": "<div>\n<style scoped>\n    .dataframe tbody tr th:only-of-type {\n        vertical-align: middle;\n    }\n\n    .dataframe tbody tr th {\n        vertical-align: top;\n    }\n\n    .dataframe thead th {\n        text-align: right;\n    }\n</style>\n<table border=\"1\" class=\"dataframe\">\n  <thead>\n    <tr style=\"text-align: right;\">\n      <th></th>\n      <th>positions</th>\n      <th>cash</th>\n      <th>total</th>\n    </tr>\n    <tr>\n      <th>Date</th>\n      <th></th>\n      <th></th>\n      <th></th>\n    </tr>\n  </thead>\n  <tbody>\n    <tr>\n      <th>2020-11-03</th>\n      <td>0.000000</td>\n      <td>NaN</td>\n      <td>NaN</td>\n    </tr>\n    <tr>\n      <th>2020-11-04</th>\n      <td>0.000000</td>\n      <td>1000.000000</td>\n      <td>1000.000000</td>\n    </tr>\n    <tr>\n      <th>2020-11-05</th>\n      <td>119.360001</td>\n      <td>880.639999</td>\n      <td>1000.000000</td>\n    </tr>\n    <tr>\n      <th>2020-11-06</th>\n      <td>119.360001</td>\n      <td>999.669998</td>\n      <td>1119.029999</td>\n    </tr>\n    <tr>\n      <th>2020-11-09</th>\n      <td>119.360001</td>\n      <td>999.669998</td>\n      <td>1119.029999</td>\n    </tr>\n    <tr>\n      <th>2020-11-10</th>\n      <td>238.510002</td>\n      <td>880.519997</td>\n      <td>1119.029999</td>\n    </tr>\n    <tr>\n      <th>2020-11-11</th>\n      <td>357.709999</td>\n      <td>880.519997</td>\n      <td>1238.229996</td>\n    </tr>\n    <tr>\n      <th>2020-11-12</th>\n      <td>357.709999</td>\n      <td>999.250000</td>\n      <td>1356.959999</td>\n    </tr>\n  </tbody>\n</table>\n</div>"
     },
     "metadata": {},
     "execution_count": 258
    }
   ],
   "source": [
    "portifolio"
   ]
  },
  {
   "cell_type": "code",
   "execution_count": null,
   "metadata": {},
   "outputs": [],
   "source": []
  }
 ]
}